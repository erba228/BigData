{
 "cells": [
  {
   "cell_type": "markdown",
   "metadata": {},
   "source": [
    "<h1>Лабораторная работа 7</h1>"
   ]
  },
  {
   "cell_type": "markdown",
   "metadata": {},
   "source": [
    "<h2>Жээнбеков Эрбол AIN-1-21</h2>"
   ]
  },
  {
   "cell_type": "markdown",
   "metadata": {},
   "source": [
    "<h3>Цель работы: изучить методы работы с текстовыми данными, применить их для анализа текстовых наборов.</h3>"
   ]
  },
  {
   "cell_type": "markdown",
   "metadata": {},
   "source": [
    "<h4>Так как у меня нет текста отдельно для test, отдельно для train, я решил использовать функцию train_test_split, которая сама мне разделит мои отзывы</h4>"
   ]
  },
  {
   "cell_type": "code",
   "execution_count": 252,
   "metadata": {},
   "outputs": [
    {
     "name": "stdout",
     "output_type": "stream",
     "text": [
      "Тип текста <class 'list'>\n",
      "Длина текста 45\n",
      "text_train[2]:Фантастическое произведение и глубокий смысл. Читается на одном дыхании.\n"
     ]
    }
   ],
   "source": [
    "from sklearn.model_selection import train_test_split\n",
    "\n",
    "\n",
    "reviews_war_and_peace = [\n",
    "    \"Книга превзошла мои ожидания. Очень рекомендую!\", # 1\n",
    "    \"Не могу понять, почему ее так высоко ценят. Слишком сложно и скучно.\", # 0\n",
    "    \"Фантастическое произведение и глубокий смысл. Читается на одном дыхании.\", # 1\n",
    "    \"Разочаровывающее чтиво. Никакой сюжетной динамики.\", # 0\n",
    "    \"Я в восторге от этой книги! Удивительный стиль и описание персонажей.\", # 1\n",
    "    \"Ужасное оформление и плохая печать.\", # 0\n",
    "    \"Отличное соотношение цены и качества. Я довольный читатель.\", # 1\n",
    "    \"Ужасный опыт обслуживания читателей. Никто не решает проблемы.\", # 0\n",
    "    \"Чтение заняло больше времени, чем ожидалось, но книга стоила того.\", # 1\n",
    "    \"Худшая книга! Сожалею, что потратил время на нее.\", # 0\n",
    "    \"Разнообразие сюжетных линий и глубина персонажей поразили меня.\", # 1\n",
    "    \"Не впечатляющая книга. Это изменит ваше представление о литературе в худшую сторону.\", # 0\n",
    "    \"Быстро доставили, и книга была именно такой, как описано.\", # 1\n",
    "    \"Я бы не рекомендовал эту книгу никому. Очень разочарован.\", # 0\n",
    "    \"Выдающееся качество. Я обязательно вернусь как читатель.\", # 1\n",
    "    \"Абсолютно ужасно! Книга разваливается после первого прочтения.\", # 0\n",
    "    \"Исключительное обслуживание читателей. Они вышли за рамки, чтобы мне помочь.\", # 1\n",
    "    \"Инструкции были неясными, что сделало чтение трудным.\", # 0\n",
    "    \"Очень доволен своим заказом. Буду читать их произведения снова.\", # 1\n",
    "    \"Не доволен покупкой. Книга пришла поврежденной.\", # 0\n",
    "    \"Отличная книга! Спасибо, что создали такое литературное произведение.\", # 1\n",
    "    \"Избегайте во всех отношениях! Книга - полная трата времени.\", # 0\n",
    "    \"Доставили вовремя, и книга полностью соответствует описанию.\", # 1\n",
    "    \"Плохое качество бумаги и неточная верстка. Жду переиздания.\", # 0\n",
    "    \"Удивительное взаимодействие с персонажами. Очень отзывчивый автор.\", # 1\n",
    "    \"Книга не соответствует моим ожиданиям. Очень разочарован.\", # 0\n",
    "    \"Быстрая доставка и отличное качество произведения. Спасибо!\", # 1\n",
    "    \"Ужасный опыт. Книга пришла с дефектом и неправильной пагинацией.\", # 0\n",
    "    \"Книга просто великолепна! Рекомендую всем любителям классики.\", # 1\n",
    "    \"Не стоит потраченных денег. Качество оставляет желать лучшего.\", # 0\n",
    "    \"Покупка была успешной. Очень доволен своим выбором литературы.\",# 1\n",
    "    \"Книга пришла не вовремя, еще и в ужасном переплете.\", # 0\n",
    "    \"Книга соответствует ожиданиям. Спасибо за быструю доставку.\", # 1\n",
    "    \"Отвратительное обслуживание. Никто не отвечает на вопросы о произведении.\", # 0\n",
    "    \"Потрясающее произведение! Я в восторге от литературного мастерства.\", # 1\n",
    "    \"Плохой опыт покупки. Книга пришла поврежденной и с пятнами чернил.\", # 0\n",
    "    \"Хорошее соотношение цены и качества. Рекомендую для чтения.\", # 1\n",
    "    \"Очень низкое качество переплета. Не рекомендую эту книгу.\", # 0\n",
    "    \"Замечательное внимание к деталям. Быстро решают все вопросы читателей.\", # 1\n",
    "    \"Книга не оправдала моих ожиданий. Не рекомендую.\", # 0\n",
    "    \"Приятно удивлен качеством литературного творения. Рекомендую к покупке.\", # 1\n",
    "    \"Проблемы с доставкой.\", # 0\n",
    "    \"Книга просто отличная! Я в восторге от ее сюжета и глубины.\", # 1\n",
    "    \"Ужасное обслуживание. Никто не отвечает на звонки и письма читателей.\", # 0\n",
    "    \"Быстрая доставка и качественное литературное произведение. Очень доволен.\", # 1\n",
    "    \"Никогда больше не куплю от этого автора. Ужасный опыт.\",# 0\n",
    "    \"Замечательное внимание к читателям. Всегда готовы помочь и ответить на вопросы.\", # 1\n",
    "    \"Плохое произведение. Не соответствует ожиданиям и изображениям.\", # 0\n",
    "    \"Отличное качество литературного творения. Буду заказывать еще.\", # 1\n",
    "    \"Книга не работает. Полная трата времени и денег.\", # 0\n",
    "    \"Прекрасная книга с глубоким смыслом. Читается на одном дыхании.\", # 1\n",
    "    \"Книга оказалась не такой, как я ожидал. Очень расстроен.\", # 0\n",
    "    \"Фантастическое произведение, которое оставило глубокий след.\", # 1\n",
    "    \"Не стоит своих денег. Книга слишком тяжелая и сложная.\", # 0\n",
    "    \"Очень хорошая книга. Рекомендую всем ценителям классики.\", # 1\n",
    "    \"Сюжет не цепляет. Не рекомендую для любителей динамичных произведений.\", # 0\n",
    "    \"Книга оставила глубокий след в душе. Очень тронула.\", # 1\n",
    "    \"Не понравилась структура произведения. Трудно следовать сюжету.\", # 0\n",
    "    \"Книга вызвала много эмоций. Очень сильное воздействие.\", # 1\n",
    "    \"Слишком длинная и сложная. Не для тех, кто предпочитает легкое чтение.\", # 0\n",
    "]\n",
    "\n",
    "target_war_and_peace = [\n",
    "    1, 0, 1, 0, 1, 0, 1, 0, 1, 0,   \n",
    "    1, 0, 1, 0, 1, 0, 1, 0, 1, 0,   \n",
    "    1, 0, 1, 0, 1, 0, 1, 0, 1, 0,   \n",
    "    1, 0, 1, 0, 1, 0, 1, 0, 1, 0,   \n",
    "    1, 0, 1, 0, 1, 0, 1, 0, 1, 0,\n",
    "    1, 0, 1, 0, 1, 0, 1, 0, 1, 0\n",
    "    ]\n",
    "\n",
    "text_train, text_test, y_train, y_test = train_test_split(reviews_war_and_peace, target_war_and_peace, random_state=0)\n",
    "\n",
    "\n",
    "print('Тип текста {}'.format(type(text_train)))\n",
    "print('Длина текста {}'.format(len(text_train)))\n",
    "print(\"text_train[2]:{}\".format(reviews_war_and_peace[2]))"
   ]
  },
  {
   "cell_type": "code",
   "execution_count": 253,
   "metadata": {},
   "outputs": [
    {
     "data": {
      "text/plain": [
       "array([0, 1])"
      ]
     },
     "execution_count": 253,
     "metadata": {},
     "output_type": "execute_result"
    }
   ],
   "source": [
    "import numpy as np\n",
    "np.unique(y_train)"
   ]
  },
  {
   "cell_type": "code",
   "execution_count": 254,
   "metadata": {},
   "outputs": [
    {
     "name": "stdout",
     "output_type": "stream",
     "text": [
      "Количество примеров на класс (обучение - training): [25 20]\n"
     ]
    }
   ],
   "source": [
    "print(f\"Количество примеров на класс (обучение - training): {np.bincount(y_train)}\")"
   ]
  },
  {
   "cell_type": "code",
   "execution_count": 255,
   "metadata": {},
   "outputs": [
    {
     "data": {
      "text/html": [
       "<style>#sk-container-id-19 {color: black;}#sk-container-id-19 pre{padding: 0;}#sk-container-id-19 div.sk-toggleable {background-color: white;}#sk-container-id-19 label.sk-toggleable__label {cursor: pointer;display: block;width: 100%;margin-bottom: 0;padding: 0.3em;box-sizing: border-box;text-align: center;}#sk-container-id-19 label.sk-toggleable__label-arrow:before {content: \"▸\";float: left;margin-right: 0.25em;color: #696969;}#sk-container-id-19 label.sk-toggleable__label-arrow:hover:before {color: black;}#sk-container-id-19 div.sk-estimator:hover label.sk-toggleable__label-arrow:before {color: black;}#sk-container-id-19 div.sk-toggleable__content {max-height: 0;max-width: 0;overflow: hidden;text-align: left;background-color: #f0f8ff;}#sk-container-id-19 div.sk-toggleable__content pre {margin: 0.2em;color: black;border-radius: 0.25em;background-color: #f0f8ff;}#sk-container-id-19 input.sk-toggleable__control:checked~div.sk-toggleable__content {max-height: 200px;max-width: 100%;overflow: auto;}#sk-container-id-19 input.sk-toggleable__control:checked~label.sk-toggleable__label-arrow:before {content: \"▾\";}#sk-container-id-19 div.sk-estimator input.sk-toggleable__control:checked~label.sk-toggleable__label {background-color: #d4ebff;}#sk-container-id-19 div.sk-label input.sk-toggleable__control:checked~label.sk-toggleable__label {background-color: #d4ebff;}#sk-container-id-19 input.sk-hidden--visually {border: 0;clip: rect(1px 1px 1px 1px);clip: rect(1px, 1px, 1px, 1px);height: 1px;margin: -1px;overflow: hidden;padding: 0;position: absolute;width: 1px;}#sk-container-id-19 div.sk-estimator {font-family: monospace;background-color: #f0f8ff;border: 1px dotted black;border-radius: 0.25em;box-sizing: border-box;margin-bottom: 0.5em;}#sk-container-id-19 div.sk-estimator:hover {background-color: #d4ebff;}#sk-container-id-19 div.sk-parallel-item::after {content: \"\";width: 100%;border-bottom: 1px solid gray;flex-grow: 1;}#sk-container-id-19 div.sk-label:hover label.sk-toggleable__label {background-color: #d4ebff;}#sk-container-id-19 div.sk-serial::before {content: \"\";position: absolute;border-left: 1px solid gray;box-sizing: border-box;top: 0;bottom: 0;left: 50%;z-index: 0;}#sk-container-id-19 div.sk-serial {display: flex;flex-direction: column;align-items: center;background-color: white;padding-right: 0.2em;padding-left: 0.2em;position: relative;}#sk-container-id-19 div.sk-item {position: relative;z-index: 1;}#sk-container-id-19 div.sk-parallel {display: flex;align-items: stretch;justify-content: center;background-color: white;position: relative;}#sk-container-id-19 div.sk-item::before, #sk-container-id-19 div.sk-parallel-item::before {content: \"\";position: absolute;border-left: 1px solid gray;box-sizing: border-box;top: 0;bottom: 0;left: 50%;z-index: -1;}#sk-container-id-19 div.sk-parallel-item {display: flex;flex-direction: column;z-index: 1;position: relative;background-color: white;}#sk-container-id-19 div.sk-parallel-item:first-child::after {align-self: flex-end;width: 50%;}#sk-container-id-19 div.sk-parallel-item:last-child::after {align-self: flex-start;width: 50%;}#sk-container-id-19 div.sk-parallel-item:only-child::after {width: 0;}#sk-container-id-19 div.sk-dashed-wrapped {border: 1px dashed gray;margin: 0 0.4em 0.5em 0.4em;box-sizing: border-box;padding-bottom: 0.4em;background-color: white;}#sk-container-id-19 div.sk-label label {font-family: monospace;font-weight: bold;display: inline-block;line-height: 1.2em;}#sk-container-id-19 div.sk-label-container {text-align: center;}#sk-container-id-19 div.sk-container {/* jupyter's `normalize.less` sets `[hidden] { display: none; }` but bootstrap.min.css set `[hidden] { display: none !important; }` so we also need the `!important` here to be able to override the default hidden behavior on the sphinx rendered scikit-learn.org. See: https://github.com/scikit-learn/scikit-learn/issues/21755 */display: inline-block !important;position: relative;}#sk-container-id-19 div.sk-text-repr-fallback {display: none;}</style><div id=\"sk-container-id-19\" class=\"sk-top-container\"><div class=\"sk-text-repr-fallback\"><pre>CountVectorizer()</pre><b>In a Jupyter environment, please rerun this cell to show the HTML representation or trust the notebook. <br />On GitHub, the HTML representation is unable to render, please try loading this page with nbviewer.org.</b></div><div class=\"sk-container\" hidden><div class=\"sk-item\"><div class=\"sk-estimator sk-toggleable\"><input class=\"sk-toggleable__control sk-hidden--visually\" id=\"sk-estimator-id-19\" type=\"checkbox\" checked><label for=\"sk-estimator-id-19\" class=\"sk-toggleable__label sk-toggleable__label-arrow\">CountVectorizer</label><div class=\"sk-toggleable__content\"><pre>CountVectorizer()</pre></div></div></div></div></div>"
      ],
      "text/plain": [
       "CountVectorizer()"
      ]
     },
     "execution_count": 255,
     "metadata": {},
     "output_type": "execute_result"
    }
   ],
   "source": [
    "from sklearn.feature_extraction.text import CountVectorizer\n",
    "\n",
    "vect = CountVectorizer()\n",
    "vect.fit(text_train)"
   ]
  },
  {
   "cell_type": "code",
   "execution_count": 256,
   "metadata": {},
   "outputs": [
    {
     "name": "stdout",
     "output_type": "stream",
     "text": [
      "Размер словаря: 216\n",
      "Содержимое словаря:\n",
      " {'ужасное': 192, 'обслуживание': 92, 'никто': 90, 'не': 81, 'отвечает': 111, 'на': 80, 'звонки': 55, 'письма': 125, 'читателей': 205, 'книга': 67, 'работает': 147, 'полная': 130, 'трата': 185, 'времени': 20, 'денег': 33, 'ужасный': 194, 'опыт': 105, 'обслуживания': 93, 'решает': 155, 'проблемы': 141, 'выдающееся': 26, 'качество': 65, 'обязательно': 94, 'вернусь': 12, 'как': 62, 'читатель': 206, 'соответствует': 170, 'ожиданиям': 100, 'спасибо': 172, 'за': 50, 'быструю': 11, 'доставку': 43, 'прекрасная': 139, 'глубоким': 31, 'смыслом': 166, 'читается': 204, 'одном': 95, 'дыхании': 45, 'стоит': 174, 'потраченных': 136, 'оставляет': 108, 'желать': 49, 'лучшего': 73, 'просто': 145, 'отличная': 113, 'восторге': 19, 'от': 109, 'ее': 46, 'сюжета': 177, 'глубины': 29, 'очень': 117, 'хорошая': 196, 'рекомендую': 154, 'всем': 24, 'ценителям': 199, 'классики': 66, 'доволен': 39, 'своим': 157, 'заказом': 51, 'буду': 4, 'читать': 208, 'их': 61, 'произведения': 144, 'снова': 167, 'оставила': 106, 'глубокий': 30, 'след': 161, 'душе': 44, 'тронула': 186, 'пришла': 140, 'дефектом': 35, 'неправильной': 83, 'пагинацией': 118, 'абсолютно': 0, 'ужасно': 191, 'разваливается': 148, 'после': 134, 'первого': 119, 'прочтения': 146, 'оформление': 116, 'плохая': 126, 'печать': 124, 'вовремя': 17, 'еще': 47, 'ужасном': 193, 'переплете': 122, 'исключительное': 60, 'они': 102, 'вышли': 28, 'рамки': 151, 'чтобы': 213, 'мне': 75, 'помочь': 131, 'оказалась': 101, 'такой': 182, 'ожидал': 96, 'расстроен': 152, 'что': 212, 'создали': 169, 'такое': 181, 'литературное': 72, 'произведение': 142, 'фантастическое': 195, 'которое': 69, 'оставило': 107, 'чтение': 209, 'заняло': 54, 'больше': 3, 'чем': 203, 'ожидалось': 97, 'но': 91, 'стоила': 173, 'того': 184, 'бы': 6, 'рекомендовал': 153, 'эту': 215, 'книгу': 68, 'никому': 89, 'разочарован': 149, 'моим': 78, 'низкое': 86, 'переплета': 121, 'инструкции': 59, 'были': 8, 'неясными': 85, 'сделало': 159, 'трудным': 188, 'никогда': 88, 'куплю': 70, 'этого': 214, 'автора': 2, 'отличное': 114, 'литературного': 71, 'творения': 183, 'заказывать': 52, 'понравилась': 132, 'структура': 175, 'трудно': 187, 'следовать': 162, 'сюжету': 179, 'замечательное': 53, 'внимание': 15, 'деталям': 34, 'быстро': 10, 'решают': 156, 'все': 22, 'вопросы': 18, 'могу': 76, 'понять': 133, 'почему': 137, 'так': 180, 'высоко': 27, 'ценят': 201, 'слишком': 163, 'сложно': 165, 'скучно': 160, 'доставили': 41, 'была': 7, 'именно': 58, 'описано': 103, 'читателям': 207, 'всегда': 23, 'готовы': 32, 'ответить': 110, 'удивительное': 190, 'взаимодействие': 14, 'персонажами': 123, 'отзывчивый': 112, 'автор': 1, 'соотношение': 171, 'цены': 200, 'качества': 63, 'довольный': 40, 'плохое': 127, 'бумаги': 5, 'неточная': 84, 'верстка': 13, 'жду': 48, 'переиздания': 120, 'хорошее': 197, 'для': 38, 'чтения': 210, 'избегайте': 56, 'во': 16, 'всех': 25, 'отношениях': 115, 'покупкой': 129, 'поврежденной': 128, 'худшая': 198, 'сожалею': 168, 'потратил': 135, 'время': 21, 'нее': 82, 'оправдала': 104, 'моих': 79, 'ожиданий': 98, 'сюжет': 176, 'цепляет': 202, 'любителей': 74, 'динамичных': 37, 'произведений': 143, 'разочаровывающее': 150, 'чтиво': 211, 'никакой': 87, 'сюжетной': 178, 'динамики': 36, 'превзошла': 138, 'мои': 77, 'ожидания': 99, 'своих': 158, 'тяжелая': 189, 'сложная': 164, 'изображениям': 57, 'быстрая': 9, 'доставка': 42, 'качественное': 64}\n"
     ]
    }
   ],
   "source": [
    "print(f\"Размер словаря: {len(vect.vocabulary_)}\")\n",
    "print(f\"Содержимое словаря:\\n {vect.vocabulary_}\")"
   ]
  },
  {
   "cell_type": "code",
   "execution_count": 257,
   "metadata": {},
   "outputs": [
    {
     "name": "stdout",
     "output_type": "stream",
     "text": [
      "X_train:\n",
      "<45x216 sparse matrix of type '<class 'numpy.int64'>'\n",
      "\twith 334 stored elements in Compressed Sparse Row format>\n"
     ]
    }
   ],
   "source": [
    "X_train = vect.transform(text_train)\n",
    "print(f\"X_train:\\n{repr(X_train)}\")"
   ]
  },
  {
   "cell_type": "code",
   "execution_count": 258,
   "metadata": {},
   "outputs": [
    {
     "name": "stdout",
     "output_type": "stream",
     "text": [
      "Количество признаков:\n",
      " 216\n",
      "Первые 10 признаков:\n",
      " ['абсолютно' 'автор' 'автора' 'больше' 'буду' 'бумаги' 'бы' 'была' 'были'\n",
      " 'быстрая']\n",
      "Каждый 18й признак:\n",
      " ['абсолютно' 'вопросы' 'динамики' 'заняло' 'литературное' 'никто'\n",
      " 'оставляет' 'плохая' 'произведения' 'следовать' 'так' 'худшая']\n"
     ]
    }
   ],
   "source": [
    "feature_names = vect.get_feature_names_out()\n",
    "print(f\"Количество признаков:\\n {len(feature_names)}\")\n",
    "print(f\"Первые 10 признаков:\\n {feature_names[:10]}\")\n",
    "print(f\"Каждый 18й признак:\\n {feature_names[::18]}\")"
   ]
  },
  {
   "cell_type": "code",
   "execution_count": 259,
   "metadata": {},
   "outputs": [
    {
     "name": "stdout",
     "output_type": "stream",
     "text": [
      "Средняя правильность 0.78\n"
     ]
    }
   ],
   "source": [
    "from sklearn.model_selection import cross_val_score\n",
    "from sklearn.linear_model import LogisticRegression\n",
    "scores = cross_val_score(LogisticRegression(), X_train, y_train, cv=5)\n",
    "print(\"Средняя правильность {:.2f}\".format(np.mean(scores)))"
   ]
  },
  {
   "cell_type": "code",
   "execution_count": 260,
   "metadata": {},
   "outputs": [
    {
     "name": "stdout",
     "output_type": "stream",
     "text": [
      "Наилучшее значение перекрестной проверки 0.78\n",
      "Наилучшие параметры {'C': 1}\n"
     ]
    }
   ],
   "source": [
    "from sklearn.model_selection import GridSearchCV\n",
    "param_grid = {'C':[0.001, 0.01, 0.1, 1,10]}\n",
    "grid = GridSearchCV(LogisticRegression(max_iter=1000), param_grid, cv=5)\n",
    "grid.fit(X_train, y_train)\n",
    "print(\"Наилучшее значение перекрестной проверки {:.2f}\".format(grid.best_score_))\n",
    "print(\"Наилучшие параметры {}\".format(grid.best_params_))"
   ]
  },
  {
   "cell_type": "code",
   "execution_count": 261,
   "metadata": {},
   "outputs": [
    {
     "name": "stdout",
     "output_type": "stream",
     "text": [
      "Правильность на тестовом наборе: 0.93\n"
     ]
    }
   ],
   "source": [
    "X_test = vect.transform(text_test)\n",
    "\n",
    "print(\"Правильность на тестовом наборе: {:.2f}\".format(grid.score(X_test, y_test)))"
   ]
  },
  {
   "cell_type": "markdown",
   "metadata": {},
   "source": [
    "<h4>Ниже я покажу как буду работать со \"стоп-словами\". Для того, чтобы взять мне стоп-слова на русском языке, я воспользовался библиотекой nltk, в которой имеется такой список слов</h4>"
   ]
  },
  {
   "cell_type": "code",
   "execution_count": 262,
   "metadata": {},
   "outputs": [
    {
     "name": "stdout",
     "output_type": "stream",
     "text": [
      "['хоть', 'за', 'этого', 'об', 'ним', 'что', 'ей', 'его', 'куда', 'чем', 'да', 'здесь', 'этой', 'ну', 'раз', 'эту', 'эти', 'потому', 'впрочем', 'быть', 'всех', 'где', 'было', 'надо', 'какой', 'на', 'всего', 'я', 'три', 'чуть', 'свою', 'совсем', 'тем', 'другой', 'вот', 'есть', 'вам', 'тогда', 'чтобы', 'со', 'над', 'а', 'же', 'бы', 'как', 'кто', 'этом', 'еще', 'тоже', 'чего', 'он', 'ее', 'какая', 'ведь', 'или', 'тебя', 'все', 'нее', 'с', 'была', 'под', 'про', 'был', 'то', 'себя', 'тут', 'для', 'перед', 'конечно', 'им', 'том', 'два', 'от', 'по', 'мой', 'может', 'о', 'и', 'больше', 'много', 'в', 'него', 'хорошо', 'нет', 'моя', 'ему', 'через', 'всегда', 'тот', 'меня', 'из', 'во', 'сейчас', 'там', 'если', 'будет', 'после', 'были', 'так', 'у', 'мы', 'более', 'вдруг', 'но', 'один', 'ты', 'наконец', 'того', 'почти', 'можно', 'когда', 'не', 'сам', 'лучше', 'ж', 'этот', 'нибудь', 'нельзя', 'всю', 'к', 'иногда', 'такой', 'они', 'при', 'она', 'вас', 'ней', 'вы', 'себе', 'потом', 'между', 'никогда', 'мне', 'теперь', 'уж', 'даже', 'ли', 'без', 'до', 'будто', 'чтоб', 'ни', 'них', 'опять', 'зачем', 'разве', 'нас', 'ничего', 'их', 'уже', 'только']\n",
      "Количество стоп-слов:\n",
      "151\n"
     ]
    },
    {
     "name": "stderr",
     "output_type": "stream",
     "text": [
      "[nltk_data] Downloading package stopwords to\n",
      "[nltk_data]     C:\\Users\\User\\AppData\\Roaming\\nltk_data...\n",
      "[nltk_data]   Package stopwords is already up-to-date!\n"
     ]
    }
   ],
   "source": [
    "import nltk\n",
    "from nltk.corpus import stopwords\n",
    "\n",
    "nltk.download('stopwords')\n",
    "stop_words = set(stopwords.words('russian'))\n",
    "\n",
    "stop_words_list = list(stop_words)\n",
    "\n",
    "print(stop_words_list)\n",
    "print(\"Количество стоп-слов:\\n{}\".format(len(stop_words_list)))\n"
   ]
  },
  {
   "cell_type": "code",
   "execution_count": 263,
   "metadata": {},
   "outputs": [
    {
     "name": "stdout",
     "output_type": "stream",
     "text": [
      "X_train c использованием стоп-слов\n",
      "<45x4 sparse matrix of type '<class 'numpy.int64'>'\n",
      "\twith 41 stored elements in Compressed Sparse Row format>\n"
     ]
    }
   ],
   "source": [
    "vect = CountVectorizer(min_df=5, stop_words=stop_words_list).fit(text_train)\n",
    "X_train = vect.transform(text_train)\n",
    "\n",
    "print(\"X_train c использованием стоп-слов\\n{}\".format(repr(X_train)))"
   ]
  },
  {
   "cell_type": "code",
   "execution_count": 264,
   "metadata": {},
   "outputs": [
    {
     "name": "stdout",
     "output_type": "stream",
     "text": [
      "Наилучшее значение перекрестной проверки 0.5555555555555556\n"
     ]
    }
   ],
   "source": [
    "grid = GridSearchCV(LogisticRegression(), param_grid, cv=5)\n",
    "grid.fit(X_train, y_train)\n",
    "print(\"Наилучшее значение перекрестной проверки {}\".format(grid.best_score_)) "
   ]
  },
  {
   "cell_type": "code",
   "execution_count": 265,
   "metadata": {},
   "outputs": [
    {
     "name": "stdout",
     "output_type": "stream",
     "text": [
      "Наилучшее значение перекрестной проверки 0.7999999999999999\n"
     ]
    }
   ],
   "source": [
    "from sklearn.feature_extraction.text import TfidfVectorizer\n",
    "from sklearn.pipeline import make_pipeline\n",
    "pipe = make_pipeline(TfidfVectorizer(min_df=5, norm=None), LogisticRegression(max_iter=100))\n",
    "param_grid = {'logisticregression__C': [0.01, 0.1, 1, 10, 100]}\n",
    "grid = GridSearchCV(pipe, param_grid, cv=5)\n",
    "grid.fit(text_train, y_train)\n",
    "print(\"Наилучшее значение перекрестной проверки {}\".format(grid.best_score_)) "
   ]
  },
  {
   "cell_type": "code",
   "execution_count": 270,
   "metadata": {},
   "outputs": [
    {
     "data": {
      "image/png": "[encoded data removed]",
      "text/plain": [
       "<Figure size 1500x500 with 1 Axes>"
      ]
     },
     "metadata": {},
     "output_type": "display_data"
    }
   ],
   "source": [
    "import mglearn\n",
    "\n",
    "mglearn.tools.visualize_coefficients(grid.best_estimator_.named_steps['logisticregression'].coef_, feature_names[:5], n_top_features=5)"
   ]
  },
  {
   "cell_type": "markdown",
   "metadata": {},
   "source": [
    "<h3>Вывод</h3>\n",
    "<h4>Во время выполнения лабораторной работы был проведен анализ отзывов о книге \"Война и Мир\" с использованием методов машинного обучения. Исходные текстовые данные были предобработаны и преобразованы в числовые признаки с использованием CountVectorizer и TfidfVectorizer.\n",
    "\n",
    "\n",
    "Во время обучения моделей LogisticRegression были выявлены средние значения точности около 0.78, что свидетельствует о хорошей предсказательной способности модели. Подбор оптимальных гиперпараметров при помощи GridSearchCV позволил достичь наилучшей средней точности на уровне 0.78, то есть такой же, что и во время обучения.\n",
    "\n",
    "Также было исследовано влияние стоп-слов, я воспользовался специально питоновской библиотекой, но почему-то производительность и точность стали только ниже.\n",
    "\n",
    "В итоговой визуализации более подробно можно рассмотреть влияние различных признаков на модели</h4>"
   ]
  }
 ],
 "metadata": {
  "kernelspec": {
   "display_name": "venv",
   "language": "python",
   "name": "python3"
  },
  "language_info": {
   "codemirror_mode": {
    "name": "ipython",
    "version": 3
   },
   "file_extension": ".py",
   "mimetype": "text/x-python",
   "name": "python",
   "nbconvert_exporter": "python",
   "pygments_lexer": "ipython3",
   "version": "3.11.7"
  }
 },
 "nbformat": 4,
 "nbformat_minor": 2
}
