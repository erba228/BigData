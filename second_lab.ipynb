{
 "cells": [
  {
   "cell_type": "markdown",
   "metadata": {},
   "source": [
    "<h1>Лабораторная работа №2</h1>"
   ]
  },
  {
   "cell_type": "markdown",
   "metadata": {},
   "source": [
    "<h2>Работа с библиотеками NumPy, pandas</h2>"
   ]
  },
  {
   "cell_type": "code",
   "execution_count": 3,
   "metadata": {},
   "outputs": [],
   "source": [
    "import numpy as np\n",
    "import pandas as pd"
   ]
  },
  {
   "cell_type": "code",
   "execution_count": 30,
   "metadata": {},
   "outputs": [
    {
     "name": "stdout",
     "output_type": "stream",
     "text": [
      "[0 1 2 3 4]\n",
      "int32\n"
     ]
    },
    {
     "data": {
      "text/plain": [
       "numpy.ndarray"
      ]
     },
     "execution_count": 30,
     "metadata": {},
     "output_type": "execute_result"
    }
   ],
   "source": [
    "list_1 = [0, 1, 2, 3, 4]\n",
    "arr_1d = np.array(list_1)\n",
    "print(arr_1d)\n",
    "print(arr_1d.dtype)\n",
    "type(arr_1d)"
   ]
  },
  {
   "cell_type": "code",
   "execution_count": 29,
   "metadata": {},
   "outputs": [
    {
     "data": {
      "text/plain": [
       "(2, 4)"
      ]
     },
     "execution_count": 29,
     "metadata": {},
     "output_type": "execute_result"
    }
   ],
   "source": [
    "b = np.array([[0, 1, 2, 3],[4, 5, 6, 7]])\n",
    "b.shape"
   ]
  },
  {
   "cell_type": "code",
   "execution_count": 28,
   "metadata": {},
   "outputs": [
    {
     "data": {
      "text/plain": [
       "array([[1.3, 2.4],\n",
       "       [0.3, 4.1]])"
      ]
     },
     "execution_count": 28,
     "metadata": {},
     "output_type": "execute_result"
    }
   ],
   "source": [
    "b = np.array([(1.3, 2.4),(0.3, 4.1)])\n",
    "b"
   ]
  },
  {
   "cell_type": "code",
   "execution_count": 27,
   "metadata": {},
   "outputs": [
    {
     "name": "stdout",
     "output_type": "stream",
     "text": [
      "[1, 2, 3, 4, 5]\n",
      "[1 2 3 4 5]\n",
      "[0, 1, 2, 3, 4]\n",
      "[0 1 2 3 4]\n"
     ]
    }
   ],
   "source": [
    "for i in range(len(list_1)):\n",
    "    list_1[i] += 1\n",
    "    \n",
    "arr_1d += 1\n",
    "\n",
    "print(list_1)\n",
    "print(arr_1d)\n",
    "\n",
    "for i in range(len(list_1)):\n",
    "    list_1[i] -= 1\n",
    "    \n",
    "arr_1d -= 1\n",
    "\n",
    "print(list_1)\n",
    "print(arr_1d)"
   ]
  },
  {
   "cell_type": "code",
   "execution_count": 26,
   "metadata": {},
   "outputs": [
    {
     "name": "stdout",
     "output_type": "stream",
     "text": [
      "zeroes [0. 0. 0. 0. 0. 0. 0. 0. 0. 0.]\n",
      "ones [1. 1. 1. 1. 1. 1. 1. 1. 1. 1.]\n",
      "arange_1 [0 1 2 3 4 5 6 7 8 9]\n",
      "linspace_1 [0.   0.25 0.5  0.75 1.  ]\n"
     ]
    }
   ],
   "source": [
    "zeros = np.zeros(10)\n",
    "ones = np.ones(10)\n",
    "arrange_1 = np.arange(10)\n",
    "linspace_1 = np.linspace(0,1,5)\n",
    "\n",
    "print('zeroes', zeros)\n",
    "print('ones', ones)\n",
    "print('arange_1', arrange_1)\n",
    "print('linspace_1', linspace_1)"
   ]
  },
  {
   "cell_type": "code",
   "execution_count": 25,
   "metadata": {},
   "outputs": [
    {
     "name": "stdout",
     "output_type": "stream",
     "text": [
      "[5 6 7 8]\n",
      "arrange_1= [[0 1 2 3 4]\n",
      " [5 6 7 8 9]]\n",
      "arrange_2= [[3 4]\n",
      " [8 9]]\n",
      "arrange_3= [1 3 5 7 9]\n"
     ]
    }
   ],
   "source": [
    "print(np.arange(10)[5:9])\n",
    "\n",
    "arange = np.arange(10).reshape(2, 5)\n",
    "\n",
    "print('arrange_1=', arange)\n",
    "print('arrange_2=', arange[:, 3:])\n",
    "print('arrange_3=', arange[arange%2 == 1])"
   ]
  },
  {
   "cell_type": "code",
   "execution_count": 24,
   "metadata": {},
   "outputs": [
    {
     "name": "stdout",
     "output_type": "stream",
     "text": [
      "(6,)\n"
     ]
    },
    {
     "data": {
      "text/plain": [
       "(1, 6)"
      ]
     },
     "execution_count": 24,
     "metadata": {},
     "output_type": "execute_result"
    }
   ],
   "source": [
    "a = np.arange(6)\n",
    "print(a.shape)\n",
    "\n",
    "a2 = a[np.newaxis, :]\n",
    "a2.shape"
   ]
  },
  {
   "cell_type": "code",
   "execution_count": 12,
   "metadata": {},
   "outputs": [
    {
     "data": {
      "text/html": [
       "<div>\n",
       "<style scoped>\n",
       "    .dataframe tbody tr th:only-of-type {\n",
       "        vertical-align: middle;\n",
       "    }\n",
       "\n",
       "    .dataframe tbody tr th {\n",
       "        vertical-align: top;\n",
       "    }\n",
       "\n",
       "    .dataframe thead th {\n",
       "        text-align: right;\n",
       "    }\n",
       "</style>\n",
       "<table border=\"1\" class=\"dataframe\">\n",
       "  <thead>\n",
       "    <tr style=\"text-align: right;\">\n",
       "      <th></th>\n",
       "      <th>int_col</th>\n",
       "      <th>float_col</th>\n",
       "      <th>str_col</th>\n",
       "    </tr>\n",
       "  </thead>\n",
       "  <tbody>\n",
       "    <tr>\n",
       "      <th>0</th>\n",
       "      <td>1</td>\n",
       "      <td>0.1</td>\n",
       "      <td>a</td>\n",
       "    </tr>\n",
       "    <tr>\n",
       "      <th>1</th>\n",
       "      <td>2</td>\n",
       "      <td>0.2</td>\n",
       "      <td>b</td>\n",
       "    </tr>\n",
       "    <tr>\n",
       "      <th>2</th>\n",
       "      <td>6</td>\n",
       "      <td>0.2</td>\n",
       "      <td>None</td>\n",
       "    </tr>\n",
       "    <tr>\n",
       "      <th>3</th>\n",
       "      <td>8</td>\n",
       "      <td>10.1</td>\n",
       "      <td>c</td>\n",
       "    </tr>\n",
       "    <tr>\n",
       "      <th>4</th>\n",
       "      <td>-1</td>\n",
       "      <td>NaN</td>\n",
       "      <td>a</td>\n",
       "    </tr>\n",
       "  </tbody>\n",
       "</table>\n",
       "</div>"
      ],
      "text/plain": [
       "   int_col  float_col str_col\n",
       "0        1        0.1       a\n",
       "1        2        0.2       b\n",
       "2        6        0.2    None\n",
       "3        8       10.1       c\n",
       "4       -1        NaN       a"
      ]
     },
     "execution_count": 12,
     "metadata": {},
     "output_type": "execute_result"
    }
   ],
   "source": [
    "df = pd.DataFrame({'int_col' : [1, 2, 6, 8, -1], 'float_col' : [0.1, 0.2, 0.2, 10.1, None], 'str_col' : ['a', 'b', None, 'c', 'a']})\n",
    "df"
   ]
  },
  {
   "cell_type": "code",
   "execution_count": 21,
   "metadata": {},
   "outputs": [
    {
     "name": "stdout",
     "output_type": "stream",
     "text": [
      "           population     area\n",
      "London        8615246  1572.00\n",
      "Berlin        3562166   891.85\n",
      "Madrid        3165235   605.77\n",
      "Rome          2874038  1285.00\n",
      "Paris         2273305   105.40\n",
      "Vienna        1805681   414.60\n",
      "Bucharest     1803425   228.00\n",
      "Hamburg       1760433   755.00\n",
      "Budapest      1754000   525.20\n",
      "Warsaw        1740119   517.00\n",
      "Barcelona     1602386   101.90\n",
      "Munich        1493900   310.40\n",
      "Milan         1350680   181.80\n"
     ]
    }
   ],
   "source": [
    "cities = {\"name\": [\"London\", \"Berlin\", \"Madrid\", \"Rome\",\n",
    "\"Paris\", \"Vienna\", \"Bucharest\", \"Hamburg\",\n",
    "\"Budapest\", \"Warsaw\", \"Barcelona\",\n",
    "\"Munich\", \"Milan\"],\n",
    "\"population\": [8615246, 3562166, 3165235, 2874038,\n",
    "2273305, 1805681, 1803425, 1760433,\n",
    "1754000, 1740119, 1602386, 1493900,\n",
    "1350680],\n",
    "\"area\": [1572, 891.85, 605.77, 1285,\n",
    "105.4, 414.6, 228, 755,\n",
    "525.2, 517, 101.9, 310.4,\n",
    "181.8]\n",
    "}\n",
    "\n",
    "city_frame = pd.DataFrame(cities,\n",
    "columns=[\"population\", \"area\"],\n",
    "index=cities[\"name\"])\n",
    "print(city_frame)"
   ]
  },
  {
   "cell_type": "code",
   "execution_count": 15,
   "metadata": {},
   "outputs": [
    {
     "data": {
      "text/html": [
       "<div>\n",
       "<style scoped>\n",
       "    .dataframe tbody tr th:only-of-type {\n",
       "        vertical-align: middle;\n",
       "    }\n",
       "\n",
       "    .dataframe tbody tr th {\n",
       "        vertical-align: top;\n",
       "    }\n",
       "\n",
       "    .dataframe thead th {\n",
       "        text-align: right;\n",
       "    }\n",
       "</style>\n",
       "<table border=\"1\" class=\"dataframe\">\n",
       "  <thead>\n",
       "    <tr style=\"text-align: right;\">\n",
       "      <th></th>\n",
       "      <th>float_col</th>\n",
       "      <th>int_col</th>\n",
       "    </tr>\n",
       "  </thead>\n",
       "  <tbody>\n",
       "    <tr>\n",
       "      <th>0</th>\n",
       "      <td>0.1</td>\n",
       "      <td>1</td>\n",
       "    </tr>\n",
       "    <tr>\n",
       "      <th>1</th>\n",
       "      <td>0.2</td>\n",
       "      <td>2</td>\n",
       "    </tr>\n",
       "    <tr>\n",
       "      <th>2</th>\n",
       "      <td>0.2</td>\n",
       "      <td>6</td>\n",
       "    </tr>\n",
       "    <tr>\n",
       "      <th>3</th>\n",
       "      <td>10.1</td>\n",
       "      <td>8</td>\n",
       "    </tr>\n",
       "    <tr>\n",
       "      <th>4</th>\n",
       "      <td>NaN</td>\n",
       "      <td>-1</td>\n",
       "    </tr>\n",
       "  </tbody>\n",
       "</table>\n",
       "</div>"
      ],
      "text/plain": [
       "   float_col  int_col\n",
       "0        0.1        1\n",
       "1        0.2        2\n",
       "2        0.2        6\n",
       "3       10.1        8\n",
       "4        NaN       -1"
      ]
     },
     "execution_count": 15,
     "metadata": {},
     "output_type": "execute_result"
    }
   ],
   "source": [
    "df.loc[:,['float_col','int_col']]"
   ]
  },
  {
   "cell_type": "code",
   "execution_count": 16,
   "metadata": {},
   "outputs": [
    {
     "data": {
      "text/plain": [
       "Index(['int_col', 'float_col', 'str_col'], dtype='object')"
      ]
     },
     "execution_count": 16,
     "metadata": {},
     "output_type": "execute_result"
    }
   ],
   "source": [
    "df.columns"
   ]
  },
  {
   "cell_type": "code",
   "execution_count": 17,
   "metadata": {},
   "outputs": [
    {
     "data": {
      "text/html": [
       "<div>\n",
       "<style scoped>\n",
       "    .dataframe tbody tr th:only-of-type {\n",
       "        vertical-align: middle;\n",
       "    }\n",
       "\n",
       "    .dataframe tbody tr th {\n",
       "        vertical-align: top;\n",
       "    }\n",
       "\n",
       "    .dataframe thead th {\n",
       "        text-align: right;\n",
       "    }\n",
       "</style>\n",
       "<table border=\"1\" class=\"dataframe\">\n",
       "  <thead>\n",
       "    <tr style=\"text-align: right;\">\n",
       "      <th></th>\n",
       "      <th>int_col</th>\n",
       "      <th>float_col</th>\n",
       "    </tr>\n",
       "  </thead>\n",
       "  <tbody>\n",
       "    <tr>\n",
       "      <th>count</th>\n",
       "      <td>5.000000</td>\n",
       "      <td>4.00000</td>\n",
       "    </tr>\n",
       "    <tr>\n",
       "      <th>mean</th>\n",
       "      <td>3.200000</td>\n",
       "      <td>2.65000</td>\n",
       "    </tr>\n",
       "    <tr>\n",
       "      <th>std</th>\n",
       "      <td>3.701351</td>\n",
       "      <td>4.96689</td>\n",
       "    </tr>\n",
       "    <tr>\n",
       "      <th>min</th>\n",
       "      <td>-1.000000</td>\n",
       "      <td>0.10000</td>\n",
       "    </tr>\n",
       "    <tr>\n",
       "      <th>25%</th>\n",
       "      <td>1.000000</td>\n",
       "      <td>0.17500</td>\n",
       "    </tr>\n",
       "    <tr>\n",
       "      <th>50%</th>\n",
       "      <td>2.000000</td>\n",
       "      <td>0.20000</td>\n",
       "    </tr>\n",
       "    <tr>\n",
       "      <th>75%</th>\n",
       "      <td>6.000000</td>\n",
       "      <td>2.67500</td>\n",
       "    </tr>\n",
       "    <tr>\n",
       "      <th>max</th>\n",
       "      <td>8.000000</td>\n",
       "      <td>10.10000</td>\n",
       "    </tr>\n",
       "  </tbody>\n",
       "</table>\n",
       "</div>"
      ],
      "text/plain": [
       "        int_col  float_col\n",
       "count  5.000000    4.00000\n",
       "mean   3.200000    2.65000\n",
       "std    3.701351    4.96689\n",
       "min   -1.000000    0.10000\n",
       "25%    1.000000    0.17500\n",
       "50%    2.000000    0.20000\n",
       "75%    6.000000    2.67500\n",
       "max    8.000000   10.10000"
      ]
     },
     "execution_count": 17,
     "metadata": {},
     "output_type": "execute_result"
    }
   ],
   "source": [
    "df.describe()"
   ]
  },
  {
   "cell_type": "code",
   "execution_count": 18,
   "metadata": {},
   "outputs": [
    {
     "data": {
      "text/html": [
       "<div>\n",
       "<style scoped>\n",
       "    .dataframe tbody tr th:only-of-type {\n",
       "        vertical-align: middle;\n",
       "    }\n",
       "\n",
       "    .dataframe tbody tr th {\n",
       "        vertical-align: top;\n",
       "    }\n",
       "\n",
       "    .dataframe thead th {\n",
       "        text-align: right;\n",
       "    }\n",
       "</style>\n",
       "<table border=\"1\" class=\"dataframe\">\n",
       "  <thead>\n",
       "    <tr style=\"text-align: right;\">\n",
       "      <th></th>\n",
       "      <th>str_col</th>\n",
       "    </tr>\n",
       "  </thead>\n",
       "  <tbody>\n",
       "    <tr>\n",
       "      <th>count</th>\n",
       "      <td>4</td>\n",
       "    </tr>\n",
       "    <tr>\n",
       "      <th>unique</th>\n",
       "      <td>3</td>\n",
       "    </tr>\n",
       "    <tr>\n",
       "      <th>top</th>\n",
       "      <td>a</td>\n",
       "    </tr>\n",
       "    <tr>\n",
       "      <th>freq</th>\n",
       "      <td>2</td>\n",
       "    </tr>\n",
       "  </tbody>\n",
       "</table>\n",
       "</div>"
      ],
      "text/plain": [
       "       str_col\n",
       "count        4\n",
       "unique       3\n",
       "top          a\n",
       "freq         2"
      ]
     },
     "execution_count": 18,
     "metadata": {},
     "output_type": "execute_result"
    }
   ],
   "source": [
    "df.describe(include=['object', 'bool'])"
   ]
  },
  {
   "cell_type": "code",
   "execution_count": 23,
   "metadata": {},
   "outputs": [
    {
     "data": {
      "text/plain": [
       "population\n",
       "8615246    1\n",
       "3562166    1\n",
       "3165235    1\n",
       "2874038    1\n",
       "2273305    1\n",
       "1805681    1\n",
       "1803425    1\n",
       "1760433    1\n",
       "1754000    1\n",
       "1740119    1\n",
       "1602386    1\n",
       "1493900    1\n",
       "1350680    1\n",
       "Name: count, dtype: int64"
      ]
     },
     "execution_count": 23,
     "metadata": {},
     "output_type": "execute_result"
    }
   ],
   "source": [
    "city_frame.population.value_counts()"
   ]
  },
  {
   "cell_type": "markdown",
   "metadata": {},
   "source": [
    "## Задачи с NumPy\n"
   ]
  },
  {
   "cell_type": "code",
   "execution_count": 450,
   "metadata": {},
   "outputs": [
    {
     "data": {
      "text/plain": [
       "array([  5,  10,  15,  20,  25,  30,  35,  40,  45,  50,  55,  60,  65,\n",
       "        70,  75,  80,  85,  90,  95, 100])"
      ]
     },
     "execution_count": 450,
     "metadata": {},
     "output_type": "execute_result"
    }
   ],
   "source": [
    "# 1.1\n",
    "my_array = np.arange(5, 101, 5)\n",
    "my_array"
   ]
  },
  {
   "cell_type": "code",
   "execution_count": 451,
   "metadata": {},
   "outputs": [
    {
     "data": {
      "text/plain": [
       "array([ 10,  20,  30,  40,  50,  60,  70,  80,  90, 100])"
      ]
     },
     "execution_count": 451,
     "metadata": {},
     "output_type": "execute_result"
    }
   ],
   "source": [
    "# 2.1\n",
    "my_array_10 = my_array[my_array % 10 == 0]\n",
    "my_array_10"
   ]
  },
  {
   "cell_type": "code",
   "execution_count": 452,
   "metadata": {},
   "outputs": [
    {
     "data": {
      "text/plain": [
       "array([[ 10,  20],\n",
       "       [ 30,  40],\n",
       "       [ 50,  60],\n",
       "       [ 70,  80],\n",
       "       [ 90, 100]])"
      ]
     },
     "execution_count": 452,
     "metadata": {},
     "output_type": "execute_result"
    }
   ],
   "source": [
    "# 3.1\n",
    "two_columns_array = my_array_10.reshape(-1, 2)\n",
    "two_columns_array"
   ]
  },
  {
   "cell_type": "code",
   "execution_count": 453,
   "metadata": {},
   "outputs": [
    {
     "data": {
      "text/plain": [
       "array([[ 5, 15],\n",
       "       [25, 35],\n",
       "       [45, 55],\n",
       "       [65, 75],\n",
       "       [85, 95]])"
      ]
     },
     "execution_count": 453,
     "metadata": {},
     "output_type": "execute_result"
    }
   ],
   "source": [
    "# 4.1\n",
    "my_second_array = two_columns_array[:] - 5\n",
    "my_second_array"
   ]
  },
  {
   "cell_type": "code",
   "execution_count": 454,
   "metadata": {},
   "outputs": [
    {
     "data": {
      "text/plain": [
       "array([[ 10,  20,   5,  15],\n",
       "       [ 30,  40,  25,  35],\n",
       "       [ 50,  60,  45,  55],\n",
       "       [ 70,  80,  65,  75],\n",
       "       [ 90, 100,  85,  95]])"
      ]
     },
     "execution_count": 454,
     "metadata": {},
     "output_type": "execute_result"
    }
   ],
   "source": [
    "#5.1\n",
    "combined = np.hstack((two_columns_array, my_second_array))\n",
    "combined"
   ]
  },
  {
   "cell_type": "code",
   "execution_count": 455,
   "metadata": {},
   "outputs": [
    {
     "data": {
      "text/plain": [
       "array([[ 10,  30,  50,  70,  90],\n",
       "       [ 20,  40,  60,  80, 100]])"
      ]
     },
     "execution_count": 455,
     "metadata": {},
     "output_type": "execute_result"
    }
   ],
   "source": [
    "two_columns_array = two_columns_array.T\n",
    "two_columns_array"
   ]
  },
  {
   "cell_type": "code",
   "execution_count": 456,
   "metadata": {},
   "outputs": [
    {
     "data": {
      "text/plain": [
       "array([[ 10,  30,  50,  70,  90],\n",
       "       [ 20,  40,  60,  80, 100],\n",
       "       [  5,  25,  45,  65,  85],\n",
       "       [ 15,  35,  55,  75,  95]])"
      ]
     },
     "execution_count": 456,
     "metadata": {},
     "output_type": "execute_result"
    }
   ],
   "source": [
    "combined = combined.T\n",
    "combined"
   ]
  },
  {
   "cell_type": "code",
   "execution_count": 457,
   "metadata": {},
   "outputs": [
    {
     "data": {
      "text/plain": [
       "array([[10, 30, 50, 70, 90],\n",
       "       [ 2,  1,  1,  1,  1],\n",
       "       [ 0,  0,  0,  0,  0],\n",
       "       [15, 35, 55, 75, 95]])"
      ]
     },
     "execution_count": 457,
     "metadata": {},
     "output_type": "execute_result"
    }
   ],
   "source": [
    "#6.1\n",
    "combined[1] = combined[1] / two_columns_array[0]\n",
    "combined[2] = combined[2] / two_columns_array[1]\n",
    "combined\n"
   ]
  },
  {
   "cell_type": "code",
   "execution_count": 458,
   "metadata": {},
   "outputs": [
    {
     "data": {
      "text/plain": [
       "array([[10, 30, 50, 70, 90],\n",
       "       [15, 35, 55, 75, 95]])"
      ]
     },
     "execution_count": 458,
     "metadata": {},
     "output_type": "execute_result"
    }
   ],
   "source": [
    "#7.1\n",
    "new_combined = np.delete(combined, np.where(np.any(combined < 3, axis=1)), axis=0)\n",
    "new_combined"
   ]
  },
  {
   "cell_type": "code",
   "execution_count": 496,
   "metadata": {},
   "outputs": [
    {
     "name": "stdout",
     "output_type": "stream",
     "text": [
      "До изменения:\n",
      " [[10 20  5 15]\n",
      " [30 40 25 35]\n",
      " [50 60 45 55]]\n",
      "После изменения:\n",
      " [[50 60 45 55]\n",
      " [30 40 25 35]\n",
      " [10 20  5 15]]\n"
     ]
    }
   ],
   "source": [
    "#8.1\n",
    "new_array = np.hstack((two_columns_array.T, my_second_array))\n",
    "new_array = np.resize(new_array, (3, 4))\n",
    "print(\"До изменения:\\n\",new_array)\n",
    "new_array[0], new_array[2] = new_array[2].copy(), new_array[0].copy()\n",
    "print(\"После изменения:\\n\",new_array)"
   ]
  },
  {
   "cell_type": "code",
   "execution_count": 503,
   "metadata": {},
   "outputs": [
    {
     "name": "stdout",
     "output_type": "stream",
     "text": [
      "Медианы: [52.5 32.5 12.5]\n",
      "Среднее: [52.5 32.5 12.5]\n",
      "Отклонения: [5.59016994 5.59016994 5.59016994]\n"
     ]
    }
   ],
   "source": [
    "medians = np.median(new_array, axis=1)\n",
    "means = np.mean(new_array, axis=1)\n",
    "stds = np.std(new_array, axis=1)\n",
    "print(\"Медианы:\",medians)\n",
    "print(\"Среднее:\",means)\n",
    "print(\"Отклонения:\",stds)"
   ]
  },
  {
   "cell_type": "code",
   "execution_count": 505,
   "metadata": {},
   "outputs": [
    {
     "data": {
      "text/plain": [
       "array([[0.83333333, 1.        , 0.75      , 0.91666667],\n",
       "       [0.75      , 1.        , 0.625     , 0.875     ],\n",
       "       [0.5       , 1.        , 0.25      , 0.75      ]])"
      ]
     },
     "execution_count": 505,
     "metadata": {},
     "output_type": "execute_result"
    }
   ],
   "source": [
    "max_values = np.max(new_array, axis=1, keepdims=True)\n",
    "normalized_array = new_array / max_values\n",
    "normalized_array"
   ]
  },
  {
   "cell_type": "markdown",
   "metadata": {},
   "source": [
    "## Задачи с Pandas\n"
   ]
  },
  {
   "cell_type": "code",
   "execution_count": 321,
   "metadata": {},
   "outputs": [
    {
     "data": {
      "text/html": [
       "<div>\n",
       "<style scoped>\n",
       "    .dataframe tbody tr th:only-of-type {\n",
       "        vertical-align: middle;\n",
       "    }\n",
       "\n",
       "    .dataframe tbody tr th {\n",
       "        vertical-align: top;\n",
       "    }\n",
       "\n",
       "    .dataframe thead th {\n",
       "        text-align: right;\n",
       "    }\n",
       "</style>\n",
       "<table border=\"1\" class=\"dataframe\">\n",
       "  <thead>\n",
       "    <tr style=\"text-align: right;\">\n",
       "      <th></th>\n",
       "      <th>Country</th>\n",
       "      <th>Year</th>\n",
       "      <th>Total Population</th>\n",
       "      <th>Urban Population</th>\n",
       "      <th>Rural Population</th>\n",
       "      <th>Population Density</th>\n",
       "      <th>Life Expectancy</th>\n",
       "      <th>Birth Rate</th>\n",
       "      <th>Death Rate</th>\n",
       "      <th>Fertility Rate</th>\n",
       "      <th>Infant Mortality Rate</th>\n",
       "      <th>Growth Rate</th>\n",
       "    </tr>\n",
       "  </thead>\n",
       "  <tbody>\n",
       "    <tr>\n",
       "      <th>0</th>\n",
       "      <td>Afghanistan</td>\n",
       "      <td>2017</td>\n",
       "      <td>-</td>\n",
       "      <td>-</td>\n",
       "      <td>-</td>\n",
       "      <td>55</td>\n",
       "      <td>63.0</td>\n",
       "      <td>37.342</td>\n",
       "      <td>7.027</td>\n",
       "      <td>5.129</td>\n",
       "      <td>49.4</td>\n",
       "      <td>-</td>\n",
       "    </tr>\n",
       "    <tr>\n",
       "      <th>1</th>\n",
       "      <td>Afghanistan</td>\n",
       "      <td>2018</td>\n",
       "      <td>36,686,784</td>\n",
       "      <td>9,353,296</td>\n",
       "      <td>27,333,488</td>\n",
       "      <td>56</td>\n",
       "      <td>63.0</td>\n",
       "      <td>36.927</td>\n",
       "      <td>6.981</td>\n",
       "      <td>5.002</td>\n",
       "      <td>47.8</td>\n",
       "      <td>3.0</td>\n",
       "    </tr>\n",
       "    <tr>\n",
       "      <th>2</th>\n",
       "      <td>Afghanistan</td>\n",
       "      <td>2019</td>\n",
       "      <td>37,769,499</td>\n",
       "      <td>9,727,157</td>\n",
       "      <td>28,042,342</td>\n",
       "      <td>58</td>\n",
       "      <td>64.0</td>\n",
       "      <td>36.466</td>\n",
       "      <td>6.791</td>\n",
       "      <td>4.87</td>\n",
       "      <td>46.3</td>\n",
       "      <td>3.0</td>\n",
       "    </tr>\n",
       "    <tr>\n",
       "      <th>3</th>\n",
       "      <td>Afghanistan</td>\n",
       "      <td>2020</td>\n",
       "      <td>38,972,230</td>\n",
       "      <td>10,142,913</td>\n",
       "      <td>28,829,317</td>\n",
       "      <td>60</td>\n",
       "      <td>63.0</td>\n",
       "      <td>36.051</td>\n",
       "      <td>7.113</td>\n",
       "      <td>4.75</td>\n",
       "      <td>44.8</td>\n",
       "      <td>3.0</td>\n",
       "    </tr>\n",
       "    <tr>\n",
       "      <th>4</th>\n",
       "      <td>Afghanistan</td>\n",
       "      <td>2021</td>\n",
       "      <td>40,099,462</td>\n",
       "      <td>10,551,772</td>\n",
       "      <td>29,547,690</td>\n",
       "      <td>-</td>\n",
       "      <td>62.0</td>\n",
       "      <td>35.842</td>\n",
       "      <td>7.344</td>\n",
       "      <td>4.643</td>\n",
       "      <td>43.4</td>\n",
       "      <td>3.0</td>\n",
       "    </tr>\n",
       "    <tr>\n",
       "      <th>...</th>\n",
       "      <td>...</td>\n",
       "      <td>...</td>\n",
       "      <td>...</td>\n",
       "      <td>...</td>\n",
       "      <td>...</td>\n",
       "      <td>...</td>\n",
       "      <td>...</td>\n",
       "      <td>...</td>\n",
       "      <td>...</td>\n",
       "      <td>...</td>\n",
       "      <td>...</td>\n",
       "      <td>...</td>\n",
       "    </tr>\n",
       "    <tr>\n",
       "      <th>1068</th>\n",
       "      <td>Zimbabwe</td>\n",
       "      <td>2017</td>\n",
       "      <td>-</td>\n",
       "      <td>-</td>\n",
       "      <td>-</td>\n",
       "      <td>38</td>\n",
       "      <td>61.0</td>\n",
       "      <td>32.516</td>\n",
       "      <td>8.266</td>\n",
       "      <td>3.706</td>\n",
       "      <td>39.5</td>\n",
       "      <td>-</td>\n",
       "    </tr>\n",
       "    <tr>\n",
       "      <th>1069</th>\n",
       "      <td>Zimbabwe</td>\n",
       "      <td>2018</td>\n",
       "      <td>15,052,184</td>\n",
       "      <td>4,848,158</td>\n",
       "      <td>10,204,026</td>\n",
       "      <td>39</td>\n",
       "      <td>61.0</td>\n",
       "      <td>32.074</td>\n",
       "      <td>7.972</td>\n",
       "      <td>3.659</td>\n",
       "      <td>38.0</td>\n",
       "      <td>2.0</td>\n",
       "    </tr>\n",
       "    <tr>\n",
       "      <th>1070</th>\n",
       "      <td>Zimbabwe</td>\n",
       "      <td>2019</td>\n",
       "      <td>15,354,608</td>\n",
       "      <td>4,945,719</td>\n",
       "      <td>10,408,889</td>\n",
       "      <td>40</td>\n",
       "      <td>61.0</td>\n",
       "      <td>31.518</td>\n",
       "      <td>8.043</td>\n",
       "      <td>3.599</td>\n",
       "      <td>37.1</td>\n",
       "      <td>2.0</td>\n",
       "    </tr>\n",
       "    <tr>\n",
       "      <th>1071</th>\n",
       "      <td>Zimbabwe</td>\n",
       "      <td>2020</td>\n",
       "      <td>15,669,666</td>\n",
       "      <td>5,052,214</td>\n",
       "      <td>10,617,452</td>\n",
       "      <td>41</td>\n",
       "      <td>61.0</td>\n",
       "      <td>31.009</td>\n",
       "      <td>8.132</td>\n",
       "      <td>3.545</td>\n",
       "      <td>36.6</td>\n",
       "      <td>2.0</td>\n",
       "    </tr>\n",
       "    <tr>\n",
       "      <th>1072</th>\n",
       "      <td>Zimbabwe</td>\n",
       "      <td>2021</td>\n",
       "      <td>15,993,524</td>\n",
       "      <td>5,166,388</td>\n",
       "      <td>10,827,136</td>\n",
       "      <td>-</td>\n",
       "      <td>59.0</td>\n",
       "      <td>30.537</td>\n",
       "      <td>9.057</td>\n",
       "      <td>3.491</td>\n",
       "      <td>35.7</td>\n",
       "      <td>2.0</td>\n",
       "    </tr>\n",
       "  </tbody>\n",
       "</table>\n",
       "<p>1073 rows × 12 columns</p>\n",
       "</div>"
      ],
      "text/plain": [
       "          Country  Year Total Population Urban Population Rural Population  \\\n",
       "0     Afghanistan  2017                -                -                -   \n",
       "1     Afghanistan  2018       36,686,784        9,353,296       27,333,488   \n",
       "2     Afghanistan  2019       37,769,499        9,727,157       28,042,342   \n",
       "3     Afghanistan  2020       38,972,230       10,142,913       28,829,317   \n",
       "4     Afghanistan  2021       40,099,462       10,551,772       29,547,690   \n",
       "...           ...   ...              ...              ...              ...   \n",
       "1068     Zimbabwe  2017                -                -                -   \n",
       "1069     Zimbabwe  2018       15,052,184        4,848,158       10,204,026   \n",
       "1070     Zimbabwe  2019       15,354,608        4,945,719       10,408,889   \n",
       "1071     Zimbabwe  2020       15,669,666        5,052,214       10,617,452   \n",
       "1072     Zimbabwe  2021       15,993,524        5,166,388       10,827,136   \n",
       "\n",
       "     Population Density Life Expectancy  Birth Rate  Death Rate  \\\n",
       "0                    55            63.0      37.342       7.027   \n",
       "1                    56            63.0      36.927       6.981   \n",
       "2                    58            64.0      36.466       6.791   \n",
       "3                    60            63.0      36.051       7.113   \n",
       "4                     -            62.0      35.842       7.344   \n",
       "...                 ...             ...         ...         ...   \n",
       "1068                 38            61.0      32.516       8.266   \n",
       "1069                 39            61.0      32.074       7.972   \n",
       "1070                 40            61.0      31.518       8.043   \n",
       "1071                 41            61.0      31.009       8.132   \n",
       "1072                  -            59.0      30.537       9.057   \n",
       "\n",
       "     Fertility Rate Infant Mortality Rate Growth Rate  \n",
       "0             5.129                  49.4           -  \n",
       "1             5.002                  47.8         3.0  \n",
       "2              4.87                  46.3         3.0  \n",
       "3              4.75                  44.8         3.0  \n",
       "4             4.643                  43.4         3.0  \n",
       "...             ...                   ...         ...  \n",
       "1068          3.706                  39.5           -  \n",
       "1069          3.659                  38.0         2.0  \n",
       "1070          3.599                  37.1         2.0  \n",
       "1071          3.545                  36.6         2.0  \n",
       "1072          3.491                  35.7         2.0  \n",
       "\n",
       "[1073 rows x 12 columns]"
      ]
     },
     "execution_count": 321,
     "metadata": {},
     "output_type": "execute_result"
    }
   ],
   "source": [
    "global_population = pd.read_csv('Global Population Trends(2016-2022).csv')\n",
    "global_population"
   ]
  },
  {
   "cell_type": "code",
   "execution_count": 322,
   "metadata": {},
   "outputs": [
    {
     "data": {
      "text/html": [
       "<div>\n",
       "<style scoped>\n",
       "    .dataframe tbody tr th:only-of-type {\n",
       "        vertical-align: middle;\n",
       "    }\n",
       "\n",
       "    .dataframe tbody tr th {\n",
       "        vertical-align: top;\n",
       "    }\n",
       "\n",
       "    .dataframe thead th {\n",
       "        text-align: right;\n",
       "    }\n",
       "</style>\n",
       "<table border=\"1\" class=\"dataframe\">\n",
       "  <thead>\n",
       "    <tr style=\"text-align: right;\">\n",
       "      <th></th>\n",
       "      <th>Country</th>\n",
       "      <th>Year</th>\n",
       "      <th>Total Population</th>\n",
       "      <th>Urban Population</th>\n",
       "      <th>Rural Population</th>\n",
       "      <th>Population Density</th>\n",
       "      <th>Life Expectancy</th>\n",
       "      <th>Birth Rate</th>\n",
       "      <th>Death Rate</th>\n",
       "      <th>Fertility Rate</th>\n",
       "      <th>Infant Mortality Rate</th>\n",
       "      <th>Growth Rate</th>\n",
       "    </tr>\n",
       "  </thead>\n",
       "  <tbody>\n",
       "    <tr>\n",
       "      <th>0</th>\n",
       "      <td>Afghanistan</td>\n",
       "      <td>2017</td>\n",
       "      <td>-</td>\n",
       "      <td>-</td>\n",
       "      <td>-</td>\n",
       "      <td>55</td>\n",
       "      <td>63.0</td>\n",
       "      <td>37.342</td>\n",
       "      <td>7.027</td>\n",
       "      <td>5.129</td>\n",
       "      <td>49.4</td>\n",
       "      <td>-</td>\n",
       "    </tr>\n",
       "    <tr>\n",
       "      <th>1</th>\n",
       "      <td>Afghanistan</td>\n",
       "      <td>2018</td>\n",
       "      <td>36,686,784</td>\n",
       "      <td>9,353,296</td>\n",
       "      <td>27,333,488</td>\n",
       "      <td>56</td>\n",
       "      <td>63.0</td>\n",
       "      <td>36.927</td>\n",
       "      <td>6.981</td>\n",
       "      <td>5.002</td>\n",
       "      <td>47.8</td>\n",
       "      <td>3.0</td>\n",
       "    </tr>\n",
       "    <tr>\n",
       "      <th>2</th>\n",
       "      <td>Afghanistan</td>\n",
       "      <td>2019</td>\n",
       "      <td>37,769,499</td>\n",
       "      <td>9,727,157</td>\n",
       "      <td>28,042,342</td>\n",
       "      <td>58</td>\n",
       "      <td>64.0</td>\n",
       "      <td>36.466</td>\n",
       "      <td>6.791</td>\n",
       "      <td>4.87</td>\n",
       "      <td>46.3</td>\n",
       "      <td>3.0</td>\n",
       "    </tr>\n",
       "    <tr>\n",
       "      <th>3</th>\n",
       "      <td>Afghanistan</td>\n",
       "      <td>2020</td>\n",
       "      <td>38,972,230</td>\n",
       "      <td>10,142,913</td>\n",
       "      <td>28,829,317</td>\n",
       "      <td>60</td>\n",
       "      <td>63.0</td>\n",
       "      <td>36.051</td>\n",
       "      <td>7.113</td>\n",
       "      <td>4.75</td>\n",
       "      <td>44.8</td>\n",
       "      <td>3.0</td>\n",
       "    </tr>\n",
       "    <tr>\n",
       "      <th>4</th>\n",
       "      <td>Afghanistan</td>\n",
       "      <td>2021</td>\n",
       "      <td>40,099,462</td>\n",
       "      <td>10,551,772</td>\n",
       "      <td>29,547,690</td>\n",
       "      <td>-</td>\n",
       "      <td>62.0</td>\n",
       "      <td>35.842</td>\n",
       "      <td>7.344</td>\n",
       "      <td>4.643</td>\n",
       "      <td>43.4</td>\n",
       "      <td>3.0</td>\n",
       "    </tr>\n",
       "  </tbody>\n",
       "</table>\n",
       "</div>"
      ],
      "text/plain": [
       "       Country  Year Total Population Urban Population Rural Population  \\\n",
       "0  Afghanistan  2017                -                -                -   \n",
       "1  Afghanistan  2018       36,686,784        9,353,296       27,333,488   \n",
       "2  Afghanistan  2019       37,769,499        9,727,157       28,042,342   \n",
       "3  Afghanistan  2020       38,972,230       10,142,913       28,829,317   \n",
       "4  Afghanistan  2021       40,099,462       10,551,772       29,547,690   \n",
       "\n",
       "  Population Density Life Expectancy  Birth Rate  Death Rate Fertility Rate  \\\n",
       "0                 55            63.0      37.342       7.027          5.129   \n",
       "1                 56            63.0      36.927       6.981          5.002   \n",
       "2                 58            64.0      36.466       6.791           4.87   \n",
       "3                 60            63.0      36.051       7.113           4.75   \n",
       "4                  -            62.0      35.842       7.344          4.643   \n",
       "\n",
       "  Infant Mortality Rate Growth Rate  \n",
       "0                  49.4           -  \n",
       "1                  47.8         3.0  \n",
       "2                  46.3         3.0  \n",
       "3                  44.8         3.0  \n",
       "4                  43.4         3.0  "
      ]
     },
     "execution_count": 322,
     "metadata": {},
     "output_type": "execute_result"
    }
   ],
   "source": [
    "global_population.head()"
   ]
  },
  {
   "cell_type": "code",
   "execution_count": 323,
   "metadata": {},
   "outputs": [
    {
     "data": {
      "text/plain": [
       "(1073, 12)"
      ]
     },
     "execution_count": 323,
     "metadata": {},
     "output_type": "execute_result"
    }
   ],
   "source": [
    "global_population.shape"
   ]
  },
  {
   "cell_type": "code",
   "execution_count": 324,
   "metadata": {},
   "outputs": [
    {
     "data": {
      "text/plain": [
       "Index(['Country', 'Year', 'Total Population', 'Urban Population',\n",
       "       'Rural Population', 'Population Density', 'Life Expectancy',\n",
       "       'Birth Rate', 'Death Rate', 'Fertility Rate', 'Infant Mortality Rate',\n",
       "       'Growth Rate'],\n",
       "      dtype='object')"
      ]
     },
     "execution_count": 324,
     "metadata": {},
     "output_type": "execute_result"
    }
   ],
   "source": [
    "global_population.columns"
   ]
  },
  {
   "cell_type": "code",
   "execution_count": 325,
   "metadata": {},
   "outputs": [
    {
     "name": "stdout",
     "output_type": "stream",
     "text": [
      "<class 'pandas.core.frame.DataFrame'>\n",
      "RangeIndex: 1073 entries, 0 to 1072\n",
      "Data columns (total 12 columns):\n",
      " #   Column                 Non-Null Count  Dtype  \n",
      "---  ------                 --------------  -----  \n",
      " 0   Country                1073 non-null   object \n",
      " 1   Year                   1073 non-null   int64  \n",
      " 2   Total Population       1073 non-null   object \n",
      " 3   Urban Population       1073 non-null   object \n",
      " 4   Rural Population       1073 non-null   object \n",
      " 5   Population Density     1073 non-null   object \n",
      " 6   Life Expectancy        1073 non-null   object \n",
      " 7   Birth Rate             1073 non-null   float64\n",
      " 8   Death Rate             1073 non-null   float64\n",
      " 9   Fertility Rate         1073 non-null   object \n",
      " 10  Infant Mortality Rate  1073 non-null   object \n",
      " 11  Growth Rate            1073 non-null   object \n",
      "dtypes: float64(2), int64(1), object(9)\n",
      "memory usage: 100.7+ KB\n"
     ]
    }
   ],
   "source": [
    "global_population.info()"
   ]
  },
  {
   "cell_type": "code",
   "execution_count": 326,
   "metadata": {},
   "outputs": [],
   "source": [
    "for column in global_population.columns:\n",
    "    global_population = global_population[global_population[column]!='-']"
   ]
  },
  {
   "cell_type": "code",
   "execution_count": 327,
   "metadata": {},
   "outputs": [
    {
     "name": "stdout",
     "output_type": "stream",
     "text": [
      "<class 'pandas.core.frame.DataFrame'>\n",
      "Index: 561 entries, 1 to 1071\n",
      "Data columns (total 12 columns):\n",
      " #   Column                 Non-Null Count  Dtype  \n",
      "---  ------                 --------------  -----  \n",
      " 0   Country                561 non-null    object \n",
      " 1   Year                   561 non-null    int64  \n",
      " 2   Total Population       561 non-null    object \n",
      " 3   Urban Population       561 non-null    object \n",
      " 4   Rural Population       561 non-null    object \n",
      " 5   Population Density     561 non-null    object \n",
      " 6   Life Expectancy        561 non-null    object \n",
      " 7   Birth Rate             561 non-null    float64\n",
      " 8   Death Rate             561 non-null    float64\n",
      " 9   Fertility Rate         561 non-null    object \n",
      " 10  Infant Mortality Rate  561 non-null    object \n",
      " 11  Growth Rate            561 non-null    object \n",
      "dtypes: float64(2), int64(1), object(9)\n",
      "memory usage: 57.0+ KB\n"
     ]
    }
   ],
   "source": [
    "global_population.info()"
   ]
  },
  {
   "cell_type": "code",
   "execution_count": 328,
   "metadata": {},
   "outputs": [],
   "source": [
    "global_population['Total Population'] = global_population['Total Population'].map(lambda x: x.replace(',', '')).astype(int)\n",
    "global_population['Urban Population'] = global_population['Urban Population'].map(lambda x: x.replace(',', '')).astype(int)\n",
    "global_population['Rural Population'] = global_population['Rural Population'].map(lambda x: x.replace(',', '')).astype(int)\n",
    "global_population['Population Density'] = global_population['Population Density'].map(lambda x: x.replace(',', '')).astype(int)\n",
    "global_population['Life Expectancy'] = global_population['Life Expectancy'].map(lambda x: x).astype(float)\n",
    "global_population['Fertility Rate'] = global_population['Fertility Rate'].map(lambda x: x).astype(float)\n",
    "global_population['Infant Mortality Rate'] = global_population['Infant Mortality Rate'].map(lambda x: x).astype(float)\n",
    "global_population['Growth Rate'] = global_population['Growth Rate'].map(lambda x: x).astype(float)\n"
   ]
  },
  {
   "cell_type": "code",
   "execution_count": 330,
   "metadata": {},
   "outputs": [
    {
     "name": "stdout",
     "output_type": "stream",
     "text": [
      "<class 'pandas.core.frame.DataFrame'>\n",
      "Index: 561 entries, 1 to 1071\n",
      "Data columns (total 12 columns):\n",
      " #   Column                 Non-Null Count  Dtype  \n",
      "---  ------                 --------------  -----  \n",
      " 0   Country                561 non-null    object \n",
      " 1   Year                   561 non-null    int64  \n",
      " 2   Total Population       561 non-null    int32  \n",
      " 3   Urban Population       561 non-null    int32  \n",
      " 4   Rural Population       561 non-null    int32  \n",
      " 5   Population Density     561 non-null    int32  \n",
      " 6   Life Expectancy        561 non-null    float64\n",
      " 7   Birth Rate             561 non-null    float64\n",
      " 8   Death Rate             561 non-null    float64\n",
      " 9   Fertility Rate         561 non-null    float64\n",
      " 10  Infant Mortality Rate  561 non-null    float64\n",
      " 11  Growth Rate            561 non-null    float64\n",
      "dtypes: float64(6), int32(4), int64(1), object(1)\n",
      "memory usage: 48.2+ KB\n"
     ]
    }
   ],
   "source": [
    "global_population.info()"
   ]
  },
  {
   "cell_type": "code",
   "execution_count": 331,
   "metadata": {},
   "outputs": [
    {
     "name": "stdout",
     "output_type": "stream",
     "text": [
      "Максимальный год: 2020\n",
      "Максимальный процент рождаемости: 46.127\n",
      "Минимальный процент рождаемости: 5.3\n",
      "Максимальный процент смертности: 18.0\n",
      "Минимальный процент смертности: 5.3\n",
      "Описание статистике по таблице:\n",
      "               Year  Total Population  Urban Population  Rural Population  \\\n",
      "count   561.000000      5.610000e+02      5.610000e+02      5.610000e+02   \n",
      "mean   2019.000000      4.099916e+07      2.273374e+07      1.826542e+07   \n",
      "std       0.817225      1.487007e+08      7.642012e+07      7.916924e+07   \n",
      "min    2018.000000      1.086500e+04      6.778000e+03      2.831000e+03   \n",
      "25%    2018.000000      2.225702e+06      1.248816e+06      6.930040e+05   \n",
      "50%    2019.000000      9.329227e+06      4.537328e+06      2.735697e+06   \n",
      "75%    2020.000000      3.087064e+07      1.576521e+07      1.108990e+07   \n",
      "max    2020.000000      1.411100e+09      8.668105e+08      9.086850e+08   \n",
      "\n",
      "       Population Density  Life Expectancy  Birth Rate  Death Rate  \\\n",
      "count          561.000000       561.000000  561.000000  561.000000   \n",
      "mean           160.083779        71.969697   19.964579    7.893127   \n",
      "std            257.111632         7.348771    9.869139    2.768170   \n",
      "min              2.000000        53.000000    5.300000    0.982000   \n",
      "25%             32.000000        66.000000   11.000000    6.103000   \n",
      "50%             82.000000        73.000000   17.832000    7.373000   \n",
      "75%            195.000000        77.000000   28.038000    9.330000   \n",
      "max           1908.000000        85.000000   46.127000   18.000000   \n",
      "\n",
      "       Fertility Rate  Infant Mortality Rate  Growth Rate  \n",
      "count      561.000000             561.000000   561.000000  \n",
      "mean         2.656565              21.137255     1.178253  \n",
      "std          1.309664              19.188447     1.274877  \n",
      "min          0.837000               1.700000    -3.000000  \n",
      "25%          1.610000               5.600000     0.000000  \n",
      "50%          2.200000              13.800000     1.000000  \n",
      "75%          3.462000              31.900000     2.000000  \n",
      "max          7.023000              85.200000     4.000000  \n"
     ]
    }
   ],
   "source": [
    "max_year = global_population.Year.max()\n",
    "\n",
    "max_birth_rate = global_population['Birth Rate'].max()\n",
    "min_birth_rate = global_population['Birth Rate'].min()\n",
    "\n",
    "max_death_rate = global_population['Death Rate'].max()\n",
    "min_death_rate = global_population['Death Rate'].min()\n",
    "\n",
    "dataframe_statistics = global_population.describe()\n",
    "\n",
    "print('Максимальный год:',max_year)\n",
    "print('Максимальный процент рождаемости:',max_birth_rate)\n",
    "print('Минимальный процент рождаемости:',min_birth_rate)\n",
    "print('Максимальный процент смертности:',max_death_rate)\n",
    "print('Минимальный процент смертности:',min_birth_rate)\n",
    "print('Описание статистике по таблице:\\n',dataframe_statistics)"
   ]
  },
  {
   "cell_type": "code",
   "execution_count": 332,
   "metadata": {},
   "outputs": [
    {
     "data": {
      "text/html": [
       "<div>\n",
       "<style scoped>\n",
       "    .dataframe tbody tr th:only-of-type {\n",
       "        vertical-align: middle;\n",
       "    }\n",
       "\n",
       "    .dataframe tbody tr th {\n",
       "        vertical-align: top;\n",
       "    }\n",
       "\n",
       "    .dataframe thead th {\n",
       "        text-align: right;\n",
       "    }\n",
       "</style>\n",
       "<table border=\"1\" class=\"dataframe\">\n",
       "  <thead>\n",
       "    <tr style=\"text-align: right;\">\n",
       "      <th></th>\n",
       "      <th>Country</th>\n",
       "      <th>Year</th>\n",
       "      <th>Total Population</th>\n",
       "      <th>Urban Population</th>\n",
       "      <th>Rural Population</th>\n",
       "      <th>Population Density</th>\n",
       "      <th>Life Expectancy</th>\n",
       "      <th>Birth Rate</th>\n",
       "      <th>Death Rate</th>\n",
       "      <th>Fertility Rate</th>\n",
       "      <th>Infant Mortality Rate</th>\n",
       "      <th>Growth Rate</th>\n",
       "    </tr>\n",
       "  </thead>\n",
       "  <tbody>\n",
       "    <tr>\n",
       "      <th>188</th>\n",
       "      <td>Chad</td>\n",
       "      <td>2018</td>\n",
       "      <td>15604210</td>\n",
       "      <td>3598175</td>\n",
       "      <td>12006035</td>\n",
       "      <td>12</td>\n",
       "      <td>53.0</td>\n",
       "      <td>44.370</td>\n",
       "      <td>12.671</td>\n",
       "      <td>6.464</td>\n",
       "      <td>71.0</td>\n",
       "      <td>3.0</td>\n",
       "    </tr>\n",
       "    <tr>\n",
       "      <th>189</th>\n",
       "      <td>Chad</td>\n",
       "      <td>2019</td>\n",
       "      <td>16126866</td>\n",
       "      <td>3754173</td>\n",
       "      <td>12372693</td>\n",
       "      <td>13</td>\n",
       "      <td>53.0</td>\n",
       "      <td>44.229</td>\n",
       "      <td>12.369</td>\n",
       "      <td>6.412</td>\n",
       "      <td>69.3</td>\n",
       "      <td>3.0</td>\n",
       "    </tr>\n",
       "    <tr>\n",
       "      <th>190</th>\n",
       "      <td>Chad</td>\n",
       "      <td>2020</td>\n",
       "      <td>16644701</td>\n",
       "      <td>3914834</td>\n",
       "      <td>12729867</td>\n",
       "      <td>13</td>\n",
       "      <td>53.0</td>\n",
       "      <td>43.849</td>\n",
       "      <td>12.486</td>\n",
       "      <td>6.346</td>\n",
       "      <td>67.6</td>\n",
       "      <td>3.0</td>\n",
       "    </tr>\n",
       "    <tr>\n",
       "      <th>696</th>\n",
       "      <td>Nigeria</td>\n",
       "      <td>2018</td>\n",
       "      <td>198387623</td>\n",
       "      <td>99876265</td>\n",
       "      <td>98511358</td>\n",
       "      <td>218</td>\n",
       "      <td>53.0</td>\n",
       "      <td>38.248</td>\n",
       "      <td>13.239</td>\n",
       "      <td>5.447</td>\n",
       "      <td>75.5</td>\n",
       "      <td>2.0</td>\n",
       "    </tr>\n",
       "    <tr>\n",
       "      <th>697</th>\n",
       "      <td>Nigeria</td>\n",
       "      <td>2019</td>\n",
       "      <td>203304492</td>\n",
       "      <td>104004479</td>\n",
       "      <td>99300013</td>\n",
       "      <td>223</td>\n",
       "      <td>53.0</td>\n",
       "      <td>37.849</td>\n",
       "      <td>12.989</td>\n",
       "      <td>5.379</td>\n",
       "      <td>73.9</td>\n",
       "      <td>2.0</td>\n",
       "    </tr>\n",
       "    <tr>\n",
       "      <th>...</th>\n",
       "      <td>...</td>\n",
       "      <td>...</td>\n",
       "      <td>...</td>\n",
       "      <td>...</td>\n",
       "      <td>...</td>\n",
       "      <td>...</td>\n",
       "      <td>...</td>\n",
       "      <td>...</td>\n",
       "      <td>...</td>\n",
       "      <td>...</td>\n",
       "      <td>...</td>\n",
       "      <td>...</td>\n",
       "    </tr>\n",
       "    <tr>\n",
       "      <th>930</th>\n",
       "      <td>Switzerland</td>\n",
       "      <td>2019</td>\n",
       "      <td>8575280</td>\n",
       "      <td>6332759</td>\n",
       "      <td>2242521</td>\n",
       "      <td>217</td>\n",
       "      <td>84.0</td>\n",
       "      <td>10.000</td>\n",
       "      <td>7.900</td>\n",
       "      <td>1.480</td>\n",
       "      <td>3.5</td>\n",
       "      <td>1.0</td>\n",
       "    </tr>\n",
       "    <tr>\n",
       "      <th>885</th>\n",
       "      <td>Spain</td>\n",
       "      <td>2019</td>\n",
       "      <td>47134837</td>\n",
       "      <td>37974181</td>\n",
       "      <td>9160656</td>\n",
       "      <td>94</td>\n",
       "      <td>84.0</td>\n",
       "      <td>7.600</td>\n",
       "      <td>8.800</td>\n",
       "      <td>1.230</td>\n",
       "      <td>2.7</td>\n",
       "      <td>1.0</td>\n",
       "    </tr>\n",
       "    <tr>\n",
       "      <th>478</th>\n",
       "      <td>Japan</td>\n",
       "      <td>2019</td>\n",
       "      <td>126633000</td>\n",
       "      <td>116119928</td>\n",
       "      <td>10513072</td>\n",
       "      <td>347</td>\n",
       "      <td>84.0</td>\n",
       "      <td>7.000</td>\n",
       "      <td>11.200</td>\n",
       "      <td>1.360</td>\n",
       "      <td>1.8</td>\n",
       "      <td>0.0</td>\n",
       "    </tr>\n",
       "    <tr>\n",
       "      <th>477</th>\n",
       "      <td>Japan</td>\n",
       "      <td>2018</td>\n",
       "      <td>126811000</td>\n",
       "      <td>116179166</td>\n",
       "      <td>10631834</td>\n",
       "      <td>348</td>\n",
       "      <td>84.0</td>\n",
       "      <td>7.400</td>\n",
       "      <td>11.000</td>\n",
       "      <td>1.420</td>\n",
       "      <td>1.9</td>\n",
       "      <td>0.0</td>\n",
       "    </tr>\n",
       "    <tr>\n",
       "      <th>479</th>\n",
       "      <td>Japan</td>\n",
       "      <td>2020</td>\n",
       "      <td>126261000</td>\n",
       "      <td>115884871</td>\n",
       "      <td>10376129</td>\n",
       "      <td>346</td>\n",
       "      <td>85.0</td>\n",
       "      <td>6.800</td>\n",
       "      <td>11.100</td>\n",
       "      <td>1.330</td>\n",
       "      <td>1.8</td>\n",
       "      <td>0.0</td>\n",
       "    </tr>\n",
       "  </tbody>\n",
       "</table>\n",
       "<p>561 rows × 12 columns</p>\n",
       "</div>"
      ],
      "text/plain": [
       "         Country  Year  Total Population  Urban Population  Rural Population  \\\n",
       "188         Chad  2018          15604210           3598175          12006035   \n",
       "189         Chad  2019          16126866           3754173          12372693   \n",
       "190         Chad  2020          16644701           3914834          12729867   \n",
       "696      Nigeria  2018         198387623          99876265          98511358   \n",
       "697      Nigeria  2019         203304492         104004479          99300013   \n",
       "..           ...   ...               ...               ...               ...   \n",
       "930  Switzerland  2019           8575280           6332759           2242521   \n",
       "885        Spain  2019          47134837          37974181           9160656   \n",
       "478        Japan  2019         126633000         116119928          10513072   \n",
       "477        Japan  2018         126811000         116179166          10631834   \n",
       "479        Japan  2020         126261000         115884871          10376129   \n",
       "\n",
       "     Population Density  Life Expectancy  Birth Rate  Death Rate  \\\n",
       "188                  12             53.0      44.370      12.671   \n",
       "189                  13             53.0      44.229      12.369   \n",
       "190                  13             53.0      43.849      12.486   \n",
       "696                 218             53.0      38.248      13.239   \n",
       "697                 223             53.0      37.849      12.989   \n",
       "..                  ...              ...         ...         ...   \n",
       "930                 217             84.0      10.000       7.900   \n",
       "885                  94             84.0       7.600       8.800   \n",
       "478                 347             84.0       7.000      11.200   \n",
       "477                 348             84.0       7.400      11.000   \n",
       "479                 346             85.0       6.800      11.100   \n",
       "\n",
       "     Fertility Rate  Infant Mortality Rate  Growth Rate  \n",
       "188           6.464                   71.0          3.0  \n",
       "189           6.412                   69.3          3.0  \n",
       "190           6.346                   67.6          3.0  \n",
       "696           5.447                   75.5          2.0  \n",
       "697           5.379                   73.9          2.0  \n",
       "..              ...                    ...          ...  \n",
       "930           1.480                    3.5          1.0  \n",
       "885           1.230                    2.7          1.0  \n",
       "478           1.360                    1.8          0.0  \n",
       "477           1.420                    1.9          0.0  \n",
       "479           1.330                    1.8          0.0  \n",
       "\n",
       "[561 rows x 12 columns]"
      ]
     },
     "execution_count": 332,
     "metadata": {},
     "output_type": "execute_result"
    }
   ],
   "source": [
    "global_population.sort_values(by=['Life Expectancy', 'Total Population'], ascending=True)"
   ]
  },
  {
   "cell_type": "code",
   "execution_count": 338,
   "metadata": {},
   "outputs": [
    {
     "data": {
      "text/html": [
       "<div>\n",
       "<style scoped>\n",
       "    .dataframe tbody tr th:only-of-type {\n",
       "        vertical-align: middle;\n",
       "    }\n",
       "\n",
       "    .dataframe tbody tr th {\n",
       "        vertical-align: top;\n",
       "    }\n",
       "\n",
       "    .dataframe thead th {\n",
       "        text-align: right;\n",
       "    }\n",
       "</style>\n",
       "<table border=\"1\" class=\"dataframe\">\n",
       "  <thead>\n",
       "    <tr style=\"text-align: right;\">\n",
       "      <th></th>\n",
       "      <th>Country</th>\n",
       "      <th>Year</th>\n",
       "      <th>Total Population</th>\n",
       "      <th>Urban Population</th>\n",
       "      <th>Rural Population</th>\n",
       "      <th>Population Density</th>\n",
       "      <th>Life Expectancy</th>\n",
       "      <th>Birth Rate</th>\n",
       "      <th>Death Rate</th>\n",
       "      <th>Fertility Rate</th>\n",
       "      <th>Infant Mortality Rate</th>\n",
       "      <th>Growth Rate</th>\n",
       "    </tr>\n",
       "  </thead>\n",
       "  <tbody>\n",
       "    <tr>\n",
       "      <th>204</th>\n",
       "      <td>China</td>\n",
       "      <td>2020</td>\n",
       "      <td>1411100000</td>\n",
       "      <td>866810508</td>\n",
       "      <td>544289492</td>\n",
       "      <td>150</td>\n",
       "      <td>78.0</td>\n",
       "      <td>8.52</td>\n",
       "      <td>7.07</td>\n",
       "      <td>1.281</td>\n",
       "      <td>5.5</td>\n",
       "      <td>0.0</td>\n",
       "    </tr>\n",
       "  </tbody>\n",
       "</table>\n",
       "</div>"
      ],
      "text/plain": [
       "    Country  Year  Total Population  Urban Population  Rural Population  \\\n",
       "204   China  2020        1411100000         866810508         544289492   \n",
       "\n",
       "     Population Density  Life Expectancy  Birth Rate  Death Rate  \\\n",
       "204                 150             78.0        8.52        7.07   \n",
       "\n",
       "     Fertility Rate  Infant Mortality Rate  Growth Rate  \n",
       "204           1.281                    5.5          0.0  "
      ]
     },
     "execution_count": 338,
     "metadata": {},
     "output_type": "execute_result"
    }
   ],
   "source": [
    "global_population.loc[global_population['Total Population'] == global_population['Total Population'].max()]"
   ]
  },
  {
   "cell_type": "code",
   "execution_count": 339,
   "metadata": {},
   "outputs": [
    {
     "data": {
      "text/html": [
       "<div>\n",
       "<style scoped>\n",
       "    .dataframe tbody tr th:only-of-type {\n",
       "        vertical-align: middle;\n",
       "    }\n",
       "\n",
       "    .dataframe tbody tr th {\n",
       "        vertical-align: top;\n",
       "    }\n",
       "\n",
       "    .dataframe thead th {\n",
       "        text-align: right;\n",
       "    }\n",
       "</style>\n",
       "<table border=\"1\" class=\"dataframe\">\n",
       "  <thead>\n",
       "    <tr style=\"text-align: right;\">\n",
       "      <th></th>\n",
       "      <th>Country</th>\n",
       "      <th>Year</th>\n",
       "      <th>Total Population</th>\n",
       "      <th>Urban Population</th>\n",
       "      <th>Rural Population</th>\n",
       "      <th>Population Density</th>\n",
       "      <th>Life Expectancy</th>\n",
       "      <th>Birth Rate</th>\n",
       "      <th>Death Rate</th>\n",
       "      <th>Fertility Rate</th>\n",
       "      <th>Infant Mortality Rate</th>\n",
       "      <th>Growth Rate</th>\n",
       "    </tr>\n",
       "  </thead>\n",
       "  <tbody>\n",
       "    <tr>\n",
       "      <th>994</th>\n",
       "      <td>Tuvalu</td>\n",
       "      <td>2018</td>\n",
       "      <td>10865</td>\n",
       "      <td>6778</td>\n",
       "      <td>4087</td>\n",
       "      <td>362</td>\n",
       "      <td>64.0</td>\n",
       "      <td>23.508</td>\n",
       "      <td>10.107</td>\n",
       "      <td>3.209</td>\n",
       "      <td>20.0</td>\n",
       "      <td>0.0</td>\n",
       "    </tr>\n",
       "  </tbody>\n",
       "</table>\n",
       "</div>"
      ],
      "text/plain": [
       "    Country  Year  Total Population  Urban Population  Rural Population  \\\n",
       "994  Tuvalu  2018             10865              6778              4087   \n",
       "\n",
       "     Population Density  Life Expectancy  Birth Rate  Death Rate  \\\n",
       "994                 362             64.0      23.508      10.107   \n",
       "\n",
       "     Fertility Rate  Infant Mortality Rate  Growth Rate  \n",
       "994           3.209                   20.0          0.0  "
      ]
     },
     "execution_count": 339,
     "metadata": {},
     "output_type": "execute_result"
    }
   ],
   "source": [
    "global_population.loc[global_population['Total Population'] == global_population['Total Population'].min()]"
   ]
  },
  {
   "cell_type": "code",
   "execution_count": 337,
   "metadata": {},
   "outputs": [],
   "source": [
    "global_population.to_excel('formatted_data.xlsx', index=False)"
   ]
  }
 ],
 "metadata": {
  "kernelspec": {
   "display_name": "venv",
   "language": "python",
   "name": "python3"
  },
  "language_info": {
   "codemirror_mode": {
    "name": "ipython",
    "version": 3
   },
   "file_extension": ".py",
   "mimetype": "text/x-python",
   "name": "python",
   "nbconvert_exporter": "python",
   "pygments_lexer": "ipython3",
   "version": "3.11.5"
  },
  "orig_nbformat": 4
 },
 "nbformat": 4,
 "nbformat_minor": 2
}
